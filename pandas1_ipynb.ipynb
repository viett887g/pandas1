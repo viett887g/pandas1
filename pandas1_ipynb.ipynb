{
  "nbformat": 4,
  "nbformat_minor": 0,
  "metadata": {
    "colab": {
      "name": "pandas1:ipynb",
      "provenance": [],
      "authorship_tag": "ABX9TyN+Aw8nJlYNjXMOkHyBYFB5",
      "include_colab_link": true
    },
    "kernelspec": {
      "name": "python3",
      "display_name": "Python 3"
    },
    "language_info": {
      "name": "python"
    }
  },
  "cells": [
    {
      "cell_type": "markdown",
      "metadata": {
        "id": "view-in-github",
        "colab_type": "text"
      },
      "source": [
        "<a href=\"https://colab.research.google.com/github/viett887g/pandas1/blob/main/pandas1_ipynb.ipynb\" target=\"_parent\"><img src=\"https://colab.research.google.com/assets/colab-badge.svg\" alt=\"Open In Colab\"/></a>"
      ]
    },
    {
      "cell_type": "code",
      "execution_count": 8,
      "metadata": {
        "id": "DGrT38fKnfG8"
      },
      "outputs": [],
      "source": [
        "import numpy as np\n",
        "import pandas as pd\n",
        "import math"
      ]
    },
    {
      "cell_type": "code",
      "source": [
        "import random as rd"
      ],
      "metadata": {
        "id": "fgdQPLmbp6n8"
      },
      "execution_count": 11,
      "outputs": []
    },
    {
      "cell_type": "code",
      "source": [
        "Khởi tạo 1 Series với giá trị rỗng"
      ],
      "metadata": {
        "id": "zfFSlAj6n961"
      },
      "execution_count": null,
      "outputs": []
    },
    {
      "cell_type": "code",
      "source": [
        "s = pd.Series()\n",
        "print(s)"
      ],
      "metadata": {
        "colab": {
          "base_uri": "https://localhost:8080/"
        },
        "id": "v3HecUlsoAhM",
        "outputId": "a6b3e975-782f-4b58-c960-2e883cefc337"
      },
      "execution_count": 6,
      "outputs": [
        {
          "output_type": "stream",
          "name": "stdout",
          "text": [
            "Series([], dtype: float64)\n"
          ]
        },
        {
          "output_type": "stream",
          "name": "stderr",
          "text": [
            "/usr/local/lib/python3.7/dist-packages/ipykernel_launcher.py:1: DeprecationWarning: The default dtype for empty Series will be 'object' instead of 'float64' in a future version. Specify a dtype explicitly to silence this warning.\n",
            "  \"\"\"Entry point for launching an IPython kernel.\n"
          ]
        }
      ]
    },
    {
      "cell_type": "code",
      "source": [
        "Giả sử có 1 vector hàng a có kích thước (1x7) được biểu diễn trong NumPy, hãy tạo 1 series tương ứng với các giá trị được sinh ngẫu nhiên"
      ],
      "metadata": {
        "id": "AdBo0VfapaIS"
      },
      "execution_count": null,
      "outputs": []
    },
    {
      "cell_type": "code",
      "source": [
        "bo = []\n",
        "for i in range(7):\n",
        "  bo.append(rd.randint(1,100))\n",
        "\n",
        "s = pd.Series(bo)\n",
        "print(s)"
      ],
      "metadata": {
        "colab": {
          "base_uri": "https://localhost:8080/"
        },
        "id": "sCDj1UQWpazv",
        "outputId": "f0886d8d-029a-436d-f01f-090d727778a0"
      },
      "execution_count": 12,
      "outputs": [
        {
          "output_type": "stream",
          "name": "stdout",
          "text": [
            "0    47\n",
            "1    48\n",
            "2    77\n",
            "3    41\n",
            "4    54\n",
            "5    74\n",
            "6     1\n",
            "dtype: int64\n"
          ]
        }
      ]
    },
    {
      "cell_type": "code",
      "source": [
        "Giả sử có 1 vector hàng a có kích thước (1x7), hãy nhập các giá trị cho 7 phần tử này từ bàn phím và tạo series tương ứng."
      ],
      "metadata": {
        "id": "tXUG_vn0qIO6"
      },
      "execution_count": null,
      "outputs": []
    },
    {
      "cell_type": "code",
      "source": [
        "w = []\n",
        "magie = 0\n",
        "while magie < 7:\n",
        "  m = input(\"Nhap phim bt ki: \")\n",
        "  w.append(m)\n",
        "  magie+=1\n",
        "s = pd.Series(w)\n",
        "print(s)\n"
      ],
      "metadata": {
        "colab": {
          "base_uri": "https://localhost:8080/"
        },
        "id": "xhLUP0xbqJOE",
        "outputId": "61c0a526-32f6-48ed-9ef6-663b8f0e088d"
      },
      "execution_count": 15,
      "outputs": [
        {
          "output_type": "stream",
          "name": "stdout",
          "text": [
            "Nhap phim bt ki: ư\n",
            "Nhap phim bt ki: qe\n",
            "Nhap phim bt ki: r\n",
            "Nhap phim bt ki: qea\n",
            "Nhap phim bt ki: ưe\n",
            "Nhap phim bt ki: f\n",
            "Nhap phim bt ki: zv\n",
            "0      ư\n",
            "1     qe\n",
            "2      r\n",
            "3    qea\n",
            "4     ưe\n",
            "5      f\n",
            "6     zv\n",
            "dtype: object\n"
          ]
        }
      ]
    },
    {
      "cell_type": "code",
      "source": [
        "Giả sử có 1 vector cột có kích thước (7x1) được biểu diễn trong NumPy, hãy tạo Series tương ứng"
      ],
      "metadata": {
        "id": "s55e7A4BrybP"
      },
      "execution_count": null,
      "outputs": []
    },
    {
      "cell_type": "code",
      "source": [
        "natri=0\n",
        "while natri < 1:\n",
        "  natri +=1\n",
        "s = {'1': pd.Series(natri), \n",
        "     '2': pd.Series(natri),\n",
        "     '3': pd.Series(natri),\n",
        "     '4': pd.Series(natri),\n",
        "     '5': pd.Series(natri),\n",
        "     '6': pd.Series(natri),\n",
        "     '7': pd.Series(natri)}\n",
        "s = pd.DataFrame(s)\n",
        "print(s)"
      ],
      "metadata": {
        "colab": {
          "base_uri": "https://localhost:8080/"
        },
        "id": "JxCRteAar2Yb",
        "outputId": "916bffad-be2d-42de-ad60-7527256e6fae"
      },
      "execution_count": 31,
      "outputs": [
        {
          "output_type": "stream",
          "name": "stdout",
          "text": [
            "   1  2  3  4  5  6  7\n",
            "0  1  1  1  1  1  1  1\n"
          ]
        }
      ]
    },
    {
      "cell_type": "code",
      "source": [
        " Chuyển đổi dữ liệu, hãy thực hiện các yêu cầu sau:"
      ],
      "metadata": {
        "id": "-YVetvRTs8pN"
      },
      "execution_count": null,
      "outputs": []
    },
    {
      "cell_type": "code",
      "source": [
        "Chuyển 1 list thành 1 series\n",
        "Chuyển 1 tuple thành 1 series\n",
        "Chuyển 1 dictionary thành 1 series"
      ],
      "metadata": {
        "id": "W4kXc2j3s_5E"
      },
      "execution_count": null,
      "outputs": []
    },
    {
      "cell_type": "code",
      "source": [
        "lis = [1,2,3,4,5]\n",
        "lis = pd.Series(lis)\n",
        "print(lis)\n",
        "\n",
        "tu = (1,2,3,4)\n",
        "tu = pd.Series(tu)\n",
        "print(tu)\n",
        "\n",
        "dic = {'a': 1, 'b':2, 'c':3}\n",
        "dic = pd.Series(dic)\n",
        "print(dic)"
      ],
      "metadata": {
        "colab": {
          "base_uri": "https://localhost:8080/"
        },
        "id": "QvOhyrfCtD0T",
        "outputId": "ee9923bc-0f0b-4d0b-a29b-e14b1d3aa7c1"
      },
      "execution_count": 32,
      "outputs": [
        {
          "output_type": "stream",
          "name": "stdout",
          "text": [
            "0    1\n",
            "1    2\n",
            "2    3\n",
            "3    4\n",
            "4    5\n",
            "dtype: int64\n",
            "0    1\n",
            "1    2\n",
            "2    3\n",
            "3    4\n",
            "dtype: int64\n",
            "a    1\n",
            "b    2\n",
            "c    3\n",
            "dtype: int64\n"
          ]
        }
      ]
    },
    {
      "cell_type": "code",
      "source": [
        "Mỗi phần tử của series đều gắn liền với các chỉ số (index) tương ứng, hãy tạo một series có kích thước (1x20) với giá trị ngẫu nhiên:\n",
        "\n",
        "Xuất series ra màn hình\n",
        "Xuất các chỉ số của series ra màn hình\n",
        "Thay đổi cách đánh chỉ số mặc định của series từ đánh chỉ số bằng số nguyên sang các kiểu đánh chỉ số bằng label và in kết quả ra màn hình\n",
        "Gợi ý:\n",
        "\n",
        "Hàm loc() dùng cho chỉ số label\n",
        "Hàm iloc() dùng cho chỉ số đạng số nguyên\n",
        "Hàm ix(): dùng cho cả 2 loại chỉ số trên"
      ],
      "metadata": {
        "id": "lpphb1hCtOzT"
      },
      "execution_count": null,
      "outputs": []
    },
    {
      "cell_type": "code",
      "source": [
        "sample = []\n",
        "for i in range(20):\n",
        "  sample.append(rd.randint(1,100))\n",
        "sample = pd.Series(sample)\n",
        "print(sample)\n",
        "print(\"----------------------------------\")\n",
        "\n",
        "for i in range(len(sample)):\n",
        "  print(sample[i])\n",
        "\n",
        "print(\"----------------------------------\")\n",
        "abc = [\"a\",\"b\",\"c\",\"d\",\"e\",\"f\"]\n",
        "sample = []\n",
        "sample1 = []\n",
        "\n",
        "for i in range(20):\n",
        "  sample.append(rd.randint(1,100))\n",
        "\n",
        "for i in range(10):\n",
        "  sample1.append(rd.choice(abc))\n",
        "s = pd.Series(sample,index= sample1)\n",
        "s = pd.DataFrame(s, columns=['abc'])\n",
        "print(s)\n",
        "print(\"---------------------------------\")\n",
        "print(s.loc['a'])\n"
      ],
      "metadata": {
        "colab": {
          "base_uri": "https://localhost:8080/",
          "height": 1000
        },
        "id": "QtNIhGc2tWoF",
        "outputId": "b459958a-3fab-45e3-bb39-acd8b297dcae"
      },
      "execution_count": 39,
      "outputs": [
        {
          "output_type": "stream",
          "name": "stdout",
          "text": [
            "0     78\n",
            "1     11\n",
            "2     33\n",
            "3     60\n",
            "4      7\n",
            "5     63\n",
            "6     87\n",
            "7     60\n",
            "8     33\n",
            "9     68\n",
            "10    88\n",
            "11    31\n",
            "12    22\n",
            "13    98\n",
            "14    29\n",
            "15    69\n",
            "16     5\n",
            "17    54\n",
            "18    42\n",
            "19    82\n",
            "dtype: int64\n",
            "----------------------------------\n",
            "78\n",
            "11\n",
            "33\n",
            "60\n",
            "7\n",
            "63\n",
            "87\n",
            "60\n",
            "33\n",
            "68\n",
            "88\n",
            "31\n",
            "22\n",
            "98\n",
            "29\n",
            "69\n",
            "5\n",
            "54\n",
            "42\n",
            "82\n",
            "----------------------------------\n"
          ]
        },
        {
          "output_type": "error",
          "ename": "ValueError",
          "evalue": "ignored",
          "traceback": [
            "\u001b[0;31m---------------------------------------------------------------------------\u001b[0m",
            "\u001b[0;31mValueError\u001b[0m                                Traceback (most recent call last)",
            "\u001b[0;32m<ipython-input-39-3ceba3f954d1>\u001b[0m in \u001b[0;36m<module>\u001b[0;34m()\u001b[0m\n\u001b[1;32m     19\u001b[0m \u001b[0;32mfor\u001b[0m \u001b[0mi\u001b[0m \u001b[0;32min\u001b[0m \u001b[0mrange\u001b[0m\u001b[0;34m(\u001b[0m\u001b[0;36m10\u001b[0m\u001b[0;34m)\u001b[0m\u001b[0;34m:\u001b[0m\u001b[0;34m\u001b[0m\u001b[0;34m\u001b[0m\u001b[0m\n\u001b[1;32m     20\u001b[0m   \u001b[0msample1\u001b[0m\u001b[0;34m.\u001b[0m\u001b[0mappend\u001b[0m\u001b[0;34m(\u001b[0m\u001b[0mrd\u001b[0m\u001b[0;34m.\u001b[0m\u001b[0mchoice\u001b[0m\u001b[0;34m(\u001b[0m\u001b[0mabc\u001b[0m\u001b[0;34m)\u001b[0m\u001b[0;34m)\u001b[0m\u001b[0;34m\u001b[0m\u001b[0;34m\u001b[0m\u001b[0m\n\u001b[0;32m---> 21\u001b[0;31m \u001b[0ms\u001b[0m \u001b[0;34m=\u001b[0m \u001b[0mpd\u001b[0m\u001b[0;34m.\u001b[0m\u001b[0mSeries\u001b[0m\u001b[0;34m(\u001b[0m\u001b[0msample\u001b[0m\u001b[0;34m,\u001b[0m\u001b[0mindex\u001b[0m\u001b[0;34m=\u001b[0m \u001b[0msample1\u001b[0m\u001b[0;34m)\u001b[0m\u001b[0;34m\u001b[0m\u001b[0;34m\u001b[0m\u001b[0m\n\u001b[0m\u001b[1;32m     22\u001b[0m \u001b[0ms\u001b[0m \u001b[0;34m=\u001b[0m \u001b[0mpd\u001b[0m\u001b[0;34m.\u001b[0m\u001b[0mDataFrame\u001b[0m\u001b[0;34m(\u001b[0m\u001b[0ms\u001b[0m\u001b[0;34m,\u001b[0m \u001b[0mcolumns\u001b[0m\u001b[0;34m=\u001b[0m\u001b[0;34m[\u001b[0m\u001b[0;34m'abc'\u001b[0m\u001b[0;34m]\u001b[0m\u001b[0;34m)\u001b[0m\u001b[0;34m\u001b[0m\u001b[0;34m\u001b[0m\u001b[0m\n\u001b[1;32m     23\u001b[0m \u001b[0mprint\u001b[0m\u001b[0;34m(\u001b[0m\u001b[0ms\u001b[0m\u001b[0;34m)\u001b[0m\u001b[0;34m\u001b[0m\u001b[0;34m\u001b[0m\u001b[0m\n",
            "\u001b[0;32m/usr/local/lib/python3.7/dist-packages/pandas/core/series.py\u001b[0m in \u001b[0;36m__init__\u001b[0;34m(self, data, index, dtype, name, copy, fastpath)\u001b[0m\n\u001b[1;32m    428\u001b[0m                 \u001b[0mindex\u001b[0m \u001b[0;34m=\u001b[0m \u001b[0mibase\u001b[0m\u001b[0;34m.\u001b[0m\u001b[0mdefault_index\u001b[0m\u001b[0;34m(\u001b[0m\u001b[0mlen\u001b[0m\u001b[0;34m(\u001b[0m\u001b[0mdata\u001b[0m\u001b[0;34m)\u001b[0m\u001b[0;34m)\u001b[0m\u001b[0;34m\u001b[0m\u001b[0;34m\u001b[0m\u001b[0m\n\u001b[1;32m    429\u001b[0m             \u001b[0;32melif\u001b[0m \u001b[0mis_list_like\u001b[0m\u001b[0;34m(\u001b[0m\u001b[0mdata\u001b[0m\u001b[0;34m)\u001b[0m\u001b[0;34m:\u001b[0m\u001b[0;34m\u001b[0m\u001b[0;34m\u001b[0m\u001b[0m\n\u001b[0;32m--> 430\u001b[0;31m                 \u001b[0mcom\u001b[0m\u001b[0;34m.\u001b[0m\u001b[0mrequire_length_match\u001b[0m\u001b[0;34m(\u001b[0m\u001b[0mdata\u001b[0m\u001b[0;34m,\u001b[0m \u001b[0mindex\u001b[0m\u001b[0;34m)\u001b[0m\u001b[0;34m\u001b[0m\u001b[0;34m\u001b[0m\u001b[0m\n\u001b[0m\u001b[1;32m    431\u001b[0m \u001b[0;34m\u001b[0m\u001b[0m\n\u001b[1;32m    432\u001b[0m             \u001b[0;31m# create/copy the manager\u001b[0m\u001b[0;34m\u001b[0m\u001b[0;34m\u001b[0m\u001b[0;34m\u001b[0m\u001b[0m\n",
            "\u001b[0;32m/usr/local/lib/python3.7/dist-packages/pandas/core/common.py\u001b[0m in \u001b[0;36mrequire_length_match\u001b[0;34m(data, index)\u001b[0m\n\u001b[1;32m    530\u001b[0m     \u001b[0;32mif\u001b[0m \u001b[0mlen\u001b[0m\u001b[0;34m(\u001b[0m\u001b[0mdata\u001b[0m\u001b[0;34m)\u001b[0m \u001b[0;34m!=\u001b[0m \u001b[0mlen\u001b[0m\u001b[0;34m(\u001b[0m\u001b[0mindex\u001b[0m\u001b[0;34m)\u001b[0m\u001b[0;34m:\u001b[0m\u001b[0;34m\u001b[0m\u001b[0;34m\u001b[0m\u001b[0m\n\u001b[1;32m    531\u001b[0m         raise ValueError(\n\u001b[0;32m--> 532\u001b[0;31m             \u001b[0;34m\"Length of values \"\u001b[0m\u001b[0;34m\u001b[0m\u001b[0;34m\u001b[0m\u001b[0m\n\u001b[0m\u001b[1;32m    533\u001b[0m             \u001b[0;34mf\"({len(data)}) \"\u001b[0m\u001b[0;34m\u001b[0m\u001b[0;34m\u001b[0m\u001b[0m\n\u001b[1;32m    534\u001b[0m             \u001b[0;34m\"does not match length of index \"\u001b[0m\u001b[0;34m\u001b[0m\u001b[0;34m\u001b[0m\u001b[0m\n",
            "\u001b[0;31mValueError\u001b[0m: Length of values (20) does not match length of index (10)"
          ]
        }
      ]
    },
    {
      "cell_type": "code",
      "source": [
        "Câu 7: Giả sử có series có kích thước (1x10), giá trị ngẫu nhiên, index được đánh từ ‘a’ trở đi, hãy:\n",
        "\n",
        "Trích xuất các phần tử của Series có chỉ số là ‘a’, ‘c’, ‘e’\n",
        "Trích xuất các phần tử của Series có chỉ số từ 3 đến 6"
      ],
      "metadata": {
        "id": "o0M39VBlun8y"
      },
      "execution_count": null,
      "outputs": []
    },
    {
      "cell_type": "code",
      "source": [
        "abc = ['a','b','c','d','e','f','g','h','l','k']\n",
        "s = []\n",
        "ind = []\n",
        "for i in range(10):\n",
        "  s.append(rd.randint(1,100))\n",
        "\n",
        "\n",
        "s = pd.Series(s,index=abc)\n",
        "print(s)\n",
        "df = pd.DataFrame(s)\n",
        "\n",
        "print(df.loc[['a','c','e']])\n",
        "\n",
        "a = []\n",
        "for i in range(3,7):\n",
        "  a.append(i)\n",
        "print(df.iloc[a])"
      ],
      "metadata": {
        "colab": {
          "base_uri": "https://localhost:8080/"
        },
        "id": "2bPwpIJEutL6",
        "outputId": "61755882-24ae-4188-efc1-3a65f0f2c26a"
      },
      "execution_count": 41,
      "outputs": [
        {
          "output_type": "stream",
          "name": "stdout",
          "text": [
            "a    27\n",
            "b    65\n",
            "c     8\n",
            "d    64\n",
            "e    66\n",
            "f    18\n",
            "g    98\n",
            "h    94\n",
            "l    14\n",
            "k    32\n",
            "dtype: int64\n",
            "    0\n",
            "a  27\n",
            "c   8\n",
            "e  66\n",
            "    0\n",
            "d  64\n",
            "e  66\n",
            "f  18\n",
            "g  98\n"
          ]
        }
      ]
    }
  ]
}